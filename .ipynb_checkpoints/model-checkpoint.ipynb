{
 "cells": [
  {
   "cell_type": "markdown",
   "metadata": {},
   "source": [
    "## analyse the data using pandas"
   ]
  },
  {
   "cell_type": "code",
   "execution_count": 86,
   "metadata": {},
   "outputs": [
    {
     "data": {
      "text/html": [
       "<div>\n",
       "<style scoped>\n",
       "    .dataframe tbody tr th:only-of-type {\n",
       "        vertical-align: middle;\n",
       "    }\n",
       "\n",
       "    .dataframe tbody tr th {\n",
       "        vertical-align: top;\n",
       "    }\n",
       "\n",
       "    .dataframe thead th {\n",
       "        text-align: right;\n",
       "    }\n",
       "</style>\n",
       "<table border=\"1\" class=\"dataframe\">\n",
       "  <thead>\n",
       "    <tr style=\"text-align: right;\">\n",
       "      <th></th>\n",
       "      <th>filename</th>\n",
       "      <th>chroma_stft</th>\n",
       "      <th>rmse</th>\n",
       "      <th>spectral_centroid</th>\n",
       "      <th>spectral_bandwidth</th>\n",
       "      <th>rolloff</th>\n",
       "      <th>zero_crossing_rate</th>\n",
       "      <th>mfcc1</th>\n",
       "      <th>mfcc2</th>\n",
       "      <th>mfcc3</th>\n",
       "      <th>...</th>\n",
       "      <th>mfcc12</th>\n",
       "      <th>mfcc13</th>\n",
       "      <th>mfcc14</th>\n",
       "      <th>mfcc15</th>\n",
       "      <th>mfcc16</th>\n",
       "      <th>mfcc17</th>\n",
       "      <th>mfcc18</th>\n",
       "      <th>mfcc19</th>\n",
       "      <th>mfcc20</th>\n",
       "      <th>label</th>\n",
       "    </tr>\n",
       "  </thead>\n",
       "  <tbody>\n",
       "    <tr>\n",
       "      <th>0</th>\n",
       "      <td>blues.00000.wav</td>\n",
       "      <td>0.349943</td>\n",
       "      <td>0.130225</td>\n",
       "      <td>1784.420446</td>\n",
       "      <td>2002.650192</td>\n",
       "      <td>3806.485316</td>\n",
       "      <td>0.083066</td>\n",
       "      <td>-113.596748</td>\n",
       "      <td>121.557297</td>\n",
       "      <td>-19.158825</td>\n",
       "      <td>...</td>\n",
       "      <td>8.810669</td>\n",
       "      <td>-3.667369</td>\n",
       "      <td>5.751690</td>\n",
       "      <td>-5.162763</td>\n",
       "      <td>0.750948</td>\n",
       "      <td>-1.691938</td>\n",
       "      <td>-0.409953</td>\n",
       "      <td>-2.300209</td>\n",
       "      <td>1.219929</td>\n",
       "      <td>blues</td>\n",
       "    </tr>\n",
       "    <tr>\n",
       "      <th>1</th>\n",
       "      <td>blues.00001.wav</td>\n",
       "      <td>0.340983</td>\n",
       "      <td>0.095918</td>\n",
       "      <td>1529.835316</td>\n",
       "      <td>2038.617579</td>\n",
       "      <td>3548.820207</td>\n",
       "      <td>0.056044</td>\n",
       "      <td>-207.556793</td>\n",
       "      <td>124.006721</td>\n",
       "      <td>8.930560</td>\n",
       "      <td>...</td>\n",
       "      <td>5.376802</td>\n",
       "      <td>-2.239120</td>\n",
       "      <td>4.216963</td>\n",
       "      <td>-6.012273</td>\n",
       "      <td>0.936110</td>\n",
       "      <td>-0.716537</td>\n",
       "      <td>0.293876</td>\n",
       "      <td>-0.287431</td>\n",
       "      <td>0.531574</td>\n",
       "      <td>blues</td>\n",
       "    </tr>\n",
       "    <tr>\n",
       "      <th>2</th>\n",
       "      <td>blues.00002.wav</td>\n",
       "      <td>0.363603</td>\n",
       "      <td>0.175573</td>\n",
       "      <td>1552.481958</td>\n",
       "      <td>1747.165985</td>\n",
       "      <td>3040.514948</td>\n",
       "      <td>0.076301</td>\n",
       "      <td>-90.754387</td>\n",
       "      <td>140.459915</td>\n",
       "      <td>-29.109968</td>\n",
       "      <td>...</td>\n",
       "      <td>5.789265</td>\n",
       "      <td>-8.905224</td>\n",
       "      <td>-1.083720</td>\n",
       "      <td>-9.218360</td>\n",
       "      <td>2.455806</td>\n",
       "      <td>-7.726901</td>\n",
       "      <td>-1.815723</td>\n",
       "      <td>-3.433434</td>\n",
       "      <td>-2.226821</td>\n",
       "      <td>blues</td>\n",
       "    </tr>\n",
       "    <tr>\n",
       "      <th>3</th>\n",
       "      <td>blues.00003.wav</td>\n",
       "      <td>0.404779</td>\n",
       "      <td>0.141191</td>\n",
       "      <td>1070.119953</td>\n",
       "      <td>1596.333948</td>\n",
       "      <td>2185.028454</td>\n",
       "      <td>0.033309</td>\n",
       "      <td>-199.431152</td>\n",
       "      <td>150.099213</td>\n",
       "      <td>5.647593</td>\n",
       "      <td>...</td>\n",
       "      <td>6.087676</td>\n",
       "      <td>-2.476421</td>\n",
       "      <td>-1.073890</td>\n",
       "      <td>-2.874778</td>\n",
       "      <td>0.780977</td>\n",
       "      <td>-3.316932</td>\n",
       "      <td>0.637981</td>\n",
       "      <td>-0.619690</td>\n",
       "      <td>-3.408233</td>\n",
       "      <td>blues</td>\n",
       "    </tr>\n",
       "    <tr>\n",
       "      <th>4</th>\n",
       "      <td>blues.00004.wav</td>\n",
       "      <td>0.308590</td>\n",
       "      <td>0.091563</td>\n",
       "      <td>1835.494603</td>\n",
       "      <td>1748.362448</td>\n",
       "      <td>3580.945013</td>\n",
       "      <td>0.101500</td>\n",
       "      <td>-160.266037</td>\n",
       "      <td>126.198807</td>\n",
       "      <td>-35.605450</td>\n",
       "      <td>...</td>\n",
       "      <td>-2.806384</td>\n",
       "      <td>-6.934123</td>\n",
       "      <td>-7.558618</td>\n",
       "      <td>-9.173553</td>\n",
       "      <td>-4.512165</td>\n",
       "      <td>-5.453538</td>\n",
       "      <td>-0.924161</td>\n",
       "      <td>-4.409333</td>\n",
       "      <td>-11.703781</td>\n",
       "      <td>blues</td>\n",
       "    </tr>\n",
       "  </tbody>\n",
       "</table>\n",
       "<p>5 rows × 28 columns</p>\n",
       "</div>"
      ],
      "text/plain": [
       "          filename  chroma_stft      rmse  spectral_centroid  \\\n",
       "0  blues.00000.wav     0.349943  0.130225        1784.420446   \n",
       "1  blues.00001.wav     0.340983  0.095918        1529.835316   \n",
       "2  blues.00002.wav     0.363603  0.175573        1552.481958   \n",
       "3  blues.00003.wav     0.404779  0.141191        1070.119953   \n",
       "4  blues.00004.wav     0.308590  0.091563        1835.494603   \n",
       "\n",
       "   spectral_bandwidth      rolloff  zero_crossing_rate       mfcc1  \\\n",
       "0         2002.650192  3806.485316            0.083066 -113.596748   \n",
       "1         2038.617579  3548.820207            0.056044 -207.556793   \n",
       "2         1747.165985  3040.514948            0.076301  -90.754387   \n",
       "3         1596.333948  2185.028454            0.033309 -199.431152   \n",
       "4         1748.362448  3580.945013            0.101500 -160.266037   \n",
       "\n",
       "        mfcc2      mfcc3  ...    mfcc12    mfcc13    mfcc14    mfcc15  \\\n",
       "0  121.557297 -19.158825  ...  8.810669 -3.667369  5.751690 -5.162763   \n",
       "1  124.006721   8.930560  ...  5.376802 -2.239120  4.216963 -6.012273   \n",
       "2  140.459915 -29.109968  ...  5.789265 -8.905224 -1.083720 -9.218360   \n",
       "3  150.099213   5.647593  ...  6.087676 -2.476421 -1.073890 -2.874778   \n",
       "4  126.198807 -35.605450  ... -2.806384 -6.934123 -7.558618 -9.173553   \n",
       "\n",
       "     mfcc16    mfcc17    mfcc18    mfcc19     mfcc20  label  \n",
       "0  0.750948 -1.691938 -0.409953 -2.300209   1.219929  blues  \n",
       "1  0.936110 -0.716537  0.293876 -0.287431   0.531574  blues  \n",
       "2  2.455806 -7.726901 -1.815723 -3.433434  -2.226821  blues  \n",
       "3  0.780977 -3.316932  0.637981 -0.619690  -3.408233  blues  \n",
       "4 -4.512165 -5.453538 -0.924161 -4.409333 -11.703781  blues  \n",
       "\n",
       "[5 rows x 28 columns]"
      ]
     },
     "execution_count": 86,
     "metadata": {},
     "output_type": "execute_result"
    }
   ],
   "source": [
    "import pandas as pd\n",
    "import numpy as np\n",
    "data = pd.read_csv('data.csv')\n",
    "data.head()"
   ]
  },
  {
   "cell_type": "code",
   "execution_count": 87,
   "metadata": {},
   "outputs": [
    {
     "data": {
      "text/plain": [
       "<seaborn.axisgrid.FacetGrid at 0x254001db470>"
      ]
     },
     "execution_count": 87,
     "metadata": {},
     "output_type": "execute_result"
    },
    {
     "data": {
      "image/png": "[encoded data removed]",
      "text/plain": [
       "<Figure size 360x360 with 1 Axes>"
      ]
     },
     "metadata": {},
     "output_type": "display_data"
    }
   ],
   "source": [
    "import seaborn as sns\n",
    "import matplotlib.pyplot as plt\n",
    "sns.set(style=\"ticks\", color_codes=True)\n",
    "sns.catplot(y= 'label', kind= 'count', data= data, palette = 'pastel')"
   ]
  },
  {
   "cell_type": "code",
   "execution_count": 88,
   "metadata": {},
   "outputs": [
    {
     "data": {
      "text/plain": [
       "(1000, 28)"
      ]
     },
     "execution_count": 88,
     "metadata": {},
     "output_type": "execute_result"
    }
   ],
   "source": [
    "data.shape"
   ]
  },
  {
   "cell_type": "code",
   "execution_count": 89,
   "metadata": {},
   "outputs": [],
   "source": [
    "data = data.drop(['filename'], axis=1) # drop name of the column which is unnecessary"
   ]
  },
  {
   "cell_type": "markdown",
   "metadata": {},
   "source": [
    "## Encoding the labels"
   ]
  },
  {
   "cell_type": "code",
   "execution_count": 90,
   "metadata": {},
   "outputs": [],
   "source": [
    "from sklearn.preprocessing import LabelEncoder, StandardScaler\n",
    "from sklearn.model_selection import train_test_split\n",
    "labels = data.iloc[:,-1]\n",
    "encoder = LabelEncoder()\n",
    "y = encoder.fit_transform(labels)"
   ]
  },
  {
   "cell_type": "markdown",
   "metadata": {},
   "source": [
    "## Scaling the feature columns"
   ]
  },
  {
   "cell_type": "code",
   "execution_count": 91,
   "metadata": {},
   "outputs": [],
   "source": [
    "scaler=StandardScaler()\n",
    "X = scaler.fit_transform(np.array(data.iloc[:, :-1], dtype = float))"
   ]
  },
  {
   "cell_type": "markdown",
   "metadata": {},
   "source": [
    "## split the dataset "
   ]
  },
  {
   "cell_type": "code",
   "execution_count": 92,
   "metadata": {},
   "outputs": [
    {
     "data": {
      "text/plain": [
       "26"
      ]
     },
     "execution_count": 92,
     "metadata": {},
     "output_type": "execute_result"
    }
   ],
   "source": [
    "train_x, test_x, train_y, test_y = train_test_split(X, y, test_size=0.2)\n",
    "train_x.shape, test_x.shape, train_y.shape, test_y.shape\n",
    "train_x.shape[1]"
   ]
  },
  {
   "cell_type": "code",
   "execution_count": 93,
   "metadata": {},
   "outputs": [
    {
     "data": {
      "text/plain": [
       "((800, 13, 2, 1), (200, 13, 2, 1), (800,), (200,))"
      ]
     },
     "execution_count": 93,
     "metadata": {},
     "output_type": "execute_result"
    }
   ],
   "source": [
    "#reshaping into 2d array\n",
    "train_x=np.reshape(train_x,(train_x.shape[0],13,2,1))\n",
    "test_x=np.reshape(test_x,(test_x.shape[0],13,2,1))\n",
    "train_x.shape, test_x.shape, train_y.shape, test_y.shape"
   ]
  },
  {
   "cell_type": "code",
   "execution_count": 94,
   "metadata": {},
   "outputs": [
    {
     "data": {
      "text/plain": [
       "array([[0., 0., 0., ..., 0., 0., 0.],\n",
       "       [0., 0., 0., ..., 1., 0., 0.],\n",
       "       [0., 1., 0., ..., 0., 0., 0.],\n",
       "       ...,\n",
       "       [0., 0., 0., ..., 0., 0., 1.],\n",
       "       [0., 0., 0., ..., 1., 0., 0.],\n",
       "       [0., 0., 0., ..., 0., 0., 0.]], dtype=float32)"
      ]
     },
     "execution_count": 94,
     "metadata": {},
     "output_type": "execute_result"
    }
   ],
   "source": [
    "from keras.utils.np_utils import to_categorical\n",
    "train_y=to_categorical(train_y, num_classes=10)\n",
    "test_y=to_categorical(test_y, num_classes=10)\n",
    "train_y.shape, test_y.shape\n",
    "train_y"
   ]
  },
  {
   "cell_type": "markdown",
   "metadata": {},
   "source": [
    "## Building our neural network"
   ]
  },
  {
   "cell_type": "code",
   "execution_count": 95,
   "metadata": {},
   "outputs": [],
   "source": [
    "from keras import Sequential\n",
    "# import BatchNormalization\n",
    "from keras.layers.normalization import BatchNormalization\n",
    "from keras.layers import Conv2D, Dense, MaxPooling2D, Flatten, Dropout\n",
    "model=Sequential()"
   ]
  },
  {
   "cell_type": "code",
   "execution_count": 96,
   "metadata": {},
   "outputs": [],
   "source": [
    "#adding layers and forming the model\n",
    "model.add(Conv2D(64,kernel_size=5,strides=1,padding=\"same\",activation=\"relu\",input_shape=(13,2,1)))\n",
    "model.add(MaxPooling2D(padding=\"same\"))\n",
    "\n",
    "model.add(Conv2D(128,kernel_size=5,strides=1,padding=\"same\",activation=\"relu\"))\n",
    "model.add(MaxPooling2D(padding=\"same\"))\n",
    "model.add(Dropout(0.2))\n",
    "\n",
    "model.add(Conv2D(256,kernel_size=5,strides=1,padding=\"same\",activation=\"relu\"))\n",
    "model.add(MaxPooling2D(padding=\"same\"))\n",
    "model.add(Dropout(0.2))\n",
    "\n",
    "model.add(Flatten())\n",
    "\n",
    "model.add(Dense(256,activation=\"relu\"))\n",
    "model.add(Dropout(0.2))\n",
    "\n",
    "model.add(Dense(512,activation=\"relu\"))\n",
    "# model.add(Dropout(0.35))\n",
    "\n",
    "model.add(Dense(10,activation=\"softmax\"))"
   ]
  },
  {
   "cell_type": "code",
   "execution_count": 97,
   "metadata": {},
   "outputs": [],
   "source": [
    "#compiling\n",
    "model.compile(optimizer=\"adam\",loss=\"categorical_crossentropy\",metrics=[\"accuracy\"])"
   ]
  },
  {
   "cell_type": "code",
   "execution_count": 98,
   "metadata": {},
   "outputs": [
    {
     "name": "stdout",
     "output_type": "stream",
     "text": [
      "Train on 800 samples, validate on 200 samples\n",
      "Epoch 1/100\n",
      "800/800 [==============================] - 1s 1ms/step - loss: 2.3020 - accuracy: 0.1050 - val_loss: 2.2948 - val_accuracy: 0.2350\n",
      "Epoch 2/100\n",
      "800/800 [==============================] - 1s 1ms/step - loss: 2.2760 - accuracy: 0.1500 - val_loss: 2.2264 - val_accuracy: 0.2100\n",
      "Epoch 3/100\n",
      "800/800 [==============================] - 1s 1ms/step - loss: 2.1653 - accuracy: 0.2050 - val_loss: 2.0194 - val_accuracy: 0.2150\n",
      "Epoch 4/100\n",
      "800/800 [==============================] - 1s 1ms/step - loss: 1.9600 - accuracy: 0.2637 - val_loss: 1.8053 - val_accuracy: 0.3500\n",
      "Epoch 5/100\n",
      "800/800 [==============================] - 1s 1ms/step - loss: 1.8289 - accuracy: 0.2975 - val_loss: 1.7786 - val_accuracy: 0.3900\n",
      "Epoch 6/100\n",
      "800/800 [==============================] - 1s 1ms/step - loss: 1.8055 - accuracy: 0.3125 - val_loss: 1.7175 - val_accuracy: 0.3900\n",
      "Epoch 7/100\n",
      "800/800 [==============================] - 1s 1ms/step - loss: 1.7201 - accuracy: 0.3425 - val_loss: 1.6964 - val_accuracy: 0.4050\n",
      "Epoch 8/100\n",
      "800/800 [==============================] - 1s 1ms/step - loss: 1.6772 - accuracy: 0.3587 - val_loss: 1.6209 - val_accuracy: 0.4300\n",
      "Epoch 9/100\n",
      "800/800 [==============================] - 1s 1ms/step - loss: 1.6058 - accuracy: 0.3775 - val_loss: 1.6264 - val_accuracy: 0.4200\n",
      "Epoch 10/100\n",
      "800/800 [==============================] - 1s 1ms/step - loss: 1.5997 - accuracy: 0.3925 - val_loss: 1.5525 - val_accuracy: 0.4000\n",
      "Epoch 11/100\n",
      "800/800 [==============================] - 1s 1ms/step - loss: 1.5187 - accuracy: 0.4363 - val_loss: 1.5561 - val_accuracy: 0.4050\n",
      "Epoch 12/100\n",
      "800/800 [==============================] - 1s 1ms/step - loss: 1.5182 - accuracy: 0.4175 - val_loss: 1.5340 - val_accuracy: 0.4700\n",
      "Epoch 13/100\n",
      "800/800 [==============================] - 1s 1ms/step - loss: 1.5010 - accuracy: 0.4212 - val_loss: 1.5171 - val_accuracy: 0.4500\n",
      "Epoch 14/100\n",
      "800/800 [==============================] - 1s 1ms/step - loss: 1.4796 - accuracy: 0.4400 - val_loss: 1.4710 - val_accuracy: 0.4950\n",
      "Epoch 15/100\n",
      "800/800 [==============================] - 1s 1ms/step - loss: 1.4151 - accuracy: 0.4613 - val_loss: 1.4502 - val_accuracy: 0.4750\n",
      "Epoch 16/100\n",
      "800/800 [==============================] - 1s 1ms/step - loss: 1.4427 - accuracy: 0.4462 - val_loss: 1.5000 - val_accuracy: 0.4550\n",
      "Epoch 17/100\n",
      "800/800 [==============================] - 1s 1ms/step - loss: 1.4081 - accuracy: 0.4812 - val_loss: 1.4097 - val_accuracy: 0.5050\n",
      "Epoch 18/100\n",
      "800/800 [==============================] - 1s 1ms/step - loss: 1.3745 - accuracy: 0.4787 - val_loss: 1.4156 - val_accuracy: 0.5250\n",
      "Epoch 19/100\n",
      "800/800 [==============================] - 1s 1ms/step - loss: 1.3643 - accuracy: 0.4975 - val_loss: 1.4246 - val_accuracy: 0.5300\n",
      "Epoch 20/100\n",
      "800/800 [==============================] - 1s 1ms/step - loss: 1.3489 - accuracy: 0.4913 - val_loss: 1.3748 - val_accuracy: 0.5050\n",
      "Epoch 21/100\n",
      "800/800 [==============================] - 1s 1ms/step - loss: 1.2889 - accuracy: 0.5125 - val_loss: 1.3387 - val_accuracy: 0.5450\n",
      "Epoch 22/100\n",
      "800/800 [==============================] - 1s 1ms/step - loss: 1.2573 - accuracy: 0.5450 - val_loss: 1.3240 - val_accuracy: 0.5400\n",
      "Epoch 23/100\n",
      "800/800 [==============================] - 1s 1ms/step - loss: 1.2379 - accuracy: 0.5512 - val_loss: 1.3196 - val_accuracy: 0.5650\n",
      "Epoch 24/100\n",
      "800/800 [==============================] - 1s 1ms/step - loss: 1.2247 - accuracy: 0.5625 - val_loss: 1.3040 - val_accuracy: 0.5600\n",
      "Epoch 25/100\n",
      "800/800 [==============================] - 1s 1ms/step - loss: 1.2034 - accuracy: 0.5562 - val_loss: 1.2871 - val_accuracy: 0.5800\n",
      "Epoch 26/100\n",
      "800/800 [==============================] - 1s 1ms/step - loss: 1.1687 - accuracy: 0.5825 - val_loss: 1.3150 - val_accuracy: 0.5750\n",
      "Epoch 27/100\n",
      "800/800 [==============================] - 1s 1ms/step - loss: 1.1610 - accuracy: 0.5813 - val_loss: 1.2544 - val_accuracy: 0.5700\n",
      "Epoch 28/100\n",
      "800/800 [==============================] - 1s 1ms/step - loss: 1.1127 - accuracy: 0.5975 - val_loss: 1.2746 - val_accuracy: 0.5650\n",
      "Epoch 29/100\n",
      "800/800 [==============================] - 1s 1ms/step - loss: 1.0915 - accuracy: 0.6062 - val_loss: 1.2848 - val_accuracy: 0.5950\n",
      "Epoch 30/100\n",
      "800/800 [==============================] - 1s 1ms/step - loss: 1.0509 - accuracy: 0.6225 - val_loss: 1.2604 - val_accuracy: 0.6050\n",
      "Epoch 31/100\n",
      "800/800 [==============================] - 1s 1ms/step - loss: 1.0499 - accuracy: 0.6175 - val_loss: 1.2110 - val_accuracy: 0.5800\n",
      "Epoch 32/100\n",
      "800/800 [==============================] - 1s 1ms/step - loss: 1.0061 - accuracy: 0.6375 - val_loss: 1.2411 - val_accuracy: 0.5500\n",
      "Epoch 33/100\n",
      "800/800 [==============================] - 1s 1ms/step - loss: 0.9868 - accuracy: 0.6450 - val_loss: 1.2156 - val_accuracy: 0.5850\n",
      "Epoch 34/100\n",
      "800/800 [==============================] - 1s 1ms/step - loss: 0.9437 - accuracy: 0.6637 - val_loss: 1.2684 - val_accuracy: 0.5750\n",
      "Epoch 35/100\n",
      "800/800 [==============================] - 1s 1ms/step - loss: 0.9587 - accuracy: 0.6400 - val_loss: 1.1952 - val_accuracy: 0.6050\n",
      "Epoch 36/100\n",
      "800/800 [==============================] - 1s 1ms/step - loss: 0.8930 - accuracy: 0.6862 - val_loss: 1.2434 - val_accuracy: 0.5850\n",
      "Epoch 37/100\n",
      "800/800 [==============================] - 1s 1ms/step - loss: 0.8939 - accuracy: 0.6712 - val_loss: 1.2731 - val_accuracy: 0.5650\n",
      "Epoch 38/100\n",
      "800/800 [==============================] - 1s 1ms/step - loss: 0.8605 - accuracy: 0.6837 - val_loss: 1.3485 - val_accuracy: 0.5650\n",
      "Epoch 39/100\n",
      "800/800 [==============================] - 1s 1ms/step - loss: 0.8879 - accuracy: 0.6825 - val_loss: 1.1807 - val_accuracy: 0.6000\n",
      "Epoch 40/100\n",
      "800/800 [==============================] - 1s 1ms/step - loss: 0.7965 - accuracy: 0.7150 - val_loss: 1.2318 - val_accuracy: 0.6150\n",
      "Epoch 41/100\n",
      "800/800 [==============================] - 1s 1ms/step - loss: 0.7625 - accuracy: 0.7275 - val_loss: 1.2593 - val_accuracy: 0.6100\n",
      "Epoch 42/100\n",
      "800/800 [==============================] - 1s 1ms/step - loss: 0.7887 - accuracy: 0.7200 - val_loss: 1.2377 - val_accuracy: 0.5800\n",
      "Epoch 43/100\n",
      "800/800 [==============================] - 1s 1ms/step - loss: 0.7664 - accuracy: 0.7163 - val_loss: 1.2239 - val_accuracy: 0.5800\n",
      "Epoch 44/100\n",
      "800/800 [==============================] - 1s 1ms/step - loss: 0.7356 - accuracy: 0.7375 - val_loss: 1.2645 - val_accuracy: 0.5750\n",
      "Epoch 45/100\n",
      "800/800 [==============================] - 1s 1ms/step - loss: 0.6879 - accuracy: 0.7487 - val_loss: 1.2397 - val_accuracy: 0.5700\n",
      "Epoch 46/100\n",
      "800/800 [==============================] - 1s 1ms/step - loss: 0.6920 - accuracy: 0.7700 - val_loss: 1.2421 - val_accuracy: 0.5800\n",
      "Epoch 47/100\n",
      "800/800 [==============================] - 1s 1ms/step - loss: 0.6694 - accuracy: 0.7675 - val_loss: 1.2984 - val_accuracy: 0.5850\n",
      "Epoch 48/100\n",
      "800/800 [==============================] - 1s 1ms/step - loss: 0.6560 - accuracy: 0.7638 - val_loss: 1.2624 - val_accuracy: 0.5550\n",
      "Epoch 49/100\n",
      "800/800 [==============================] - 1s 1ms/step - loss: 0.6103 - accuracy: 0.7862 - val_loss: 1.2832 - val_accuracy: 0.5700\n",
      "Epoch 50/100\n",
      "800/800 [==============================] - 1s 1ms/step - loss: 0.6271 - accuracy: 0.7788 - val_loss: 1.3353 - val_accuracy: 0.5750\n",
      "Epoch 51/100\n",
      "800/800 [==============================] - 1s 1ms/step - loss: 0.6252 - accuracy: 0.7750 - val_loss: 1.2824 - val_accuracy: 0.6000\n",
      "Epoch 52/100\n",
      "800/800 [==============================] - 1s 1ms/step - loss: 0.6299 - accuracy: 0.7862 - val_loss: 1.2716 - val_accuracy: 0.5800\n",
      "Epoch 53/100\n",
      "800/800 [==============================] - 1s 1ms/step - loss: 0.5784 - accuracy: 0.7950 - val_loss: 1.2638 - val_accuracy: 0.5850\n",
      "Epoch 54/100\n",
      "800/800 [==============================] - 1s 1ms/step - loss: 0.5896 - accuracy: 0.7850 - val_loss: 1.2847 - val_accuracy: 0.6100\n",
      "Epoch 55/100\n",
      "800/800 [==============================] - 1s 1ms/step - loss: 0.5825 - accuracy: 0.7925 - val_loss: 1.2721 - val_accuracy: 0.5950\n",
      "Epoch 56/100\n",
      "800/800 [==============================] - 1s 1ms/step - loss: 0.5589 - accuracy: 0.8037 - val_loss: 1.2815 - val_accuracy: 0.6200\n",
      "Epoch 57/100\n"
     ]
    },
    {
     "name": "stdout",
     "output_type": "stream",
     "text": [
      "800/800 [==============================] - 1s 1ms/step - loss: 0.5297 - accuracy: 0.8125 - val_loss: 1.2252 - val_accuracy: 0.6100\n",
      "Epoch 58/100\n",
      "800/800 [==============================] - 1s 1ms/step - loss: 0.4661 - accuracy: 0.8450 - val_loss: 1.3774 - val_accuracy: 0.5800\n",
      "Epoch 59/100\n",
      "800/800 [==============================] - 1s 1ms/step - loss: 0.5035 - accuracy: 0.8213 - val_loss: 1.3578 - val_accuracy: 0.5650\n",
      "Epoch 60/100\n",
      "800/800 [==============================] - 1s 1ms/step - loss: 0.4798 - accuracy: 0.8138 - val_loss: 1.3947 - val_accuracy: 0.5900\n",
      "Epoch 61/100\n",
      "800/800 [==============================] - 1s 1ms/step - loss: 0.4695 - accuracy: 0.8425 - val_loss: 1.3177 - val_accuracy: 0.5600\n",
      "Epoch 62/100\n",
      "800/800 [==============================] - 1s 1ms/step - loss: 0.4434 - accuracy: 0.8363 - val_loss: 1.3980 - val_accuracy: 0.6000\n",
      "Epoch 63/100\n",
      "800/800 [==============================] - 1s 1ms/step - loss: 0.5406 - accuracy: 0.8062 - val_loss: 1.2371 - val_accuracy: 0.5700\n",
      "Epoch 64/100\n",
      "800/800 [==============================] - 1s 1ms/step - loss: 0.4859 - accuracy: 0.8100 - val_loss: 1.2947 - val_accuracy: 0.6100\n",
      "Epoch 65/100\n",
      "800/800 [==============================] - 1s 1ms/step - loss: 0.4850 - accuracy: 0.8413 - val_loss: 1.2916 - val_accuracy: 0.5850\n",
      "Epoch 66/100\n",
      "800/800 [==============================] - 1s 1ms/step - loss: 0.4640 - accuracy: 0.8512 - val_loss: 1.2157 - val_accuracy: 0.6100\n",
      "Epoch 67/100\n",
      "800/800 [==============================] - 1s 1ms/step - loss: 0.3979 - accuracy: 0.8675 - val_loss: 1.4665 - val_accuracy: 0.5900\n",
      "Epoch 68/100\n",
      "800/800 [==============================] - 1s 1ms/step - loss: 0.4131 - accuracy: 0.8537 - val_loss: 1.3426 - val_accuracy: 0.5850\n",
      "Epoch 69/100\n",
      "800/800 [==============================] - 1s 1ms/step - loss: 0.3404 - accuracy: 0.8838 - val_loss: 1.4673 - val_accuracy: 0.6000\n",
      "Epoch 70/100\n",
      "800/800 [==============================] - 1s 1ms/step - loss: 0.3362 - accuracy: 0.8712 - val_loss: 1.4420 - val_accuracy: 0.6050\n",
      "Epoch 71/100\n",
      "800/800 [==============================] - 1s 1ms/step - loss: 0.3163 - accuracy: 0.8950 - val_loss: 1.5715 - val_accuracy: 0.5850\n",
      "Epoch 72/100\n",
      "800/800 [==============================] - 1s 1ms/step - loss: 0.3100 - accuracy: 0.8838 - val_loss: 1.3891 - val_accuracy: 0.5900\n",
      "Epoch 73/100\n",
      "800/800 [==============================] - 1s 1ms/step - loss: 0.3289 - accuracy: 0.8913 - val_loss: 1.4543 - val_accuracy: 0.5900\n",
      "Epoch 74/100\n",
      "800/800 [==============================] - 1s 1ms/step - loss: 0.3082 - accuracy: 0.8875 - val_loss: 1.4572 - val_accuracy: 0.6300\n",
      "Epoch 75/100\n",
      "800/800 [==============================] - 1s 1ms/step - loss: 0.2742 - accuracy: 0.8988 - val_loss: 1.4648 - val_accuracy: 0.6050\n",
      "Epoch 76/100\n",
      "800/800 [==============================] - 1s 1ms/step - loss: 0.2874 - accuracy: 0.9062 - val_loss: 1.3926 - val_accuracy: 0.6350\n",
      "Epoch 77/100\n",
      "800/800 [==============================] - 1s 1ms/step - loss: 0.2891 - accuracy: 0.8963 - val_loss: 1.4915 - val_accuracy: 0.5950\n",
      "Epoch 78/100\n",
      "800/800 [==============================] - 1s 1ms/step - loss: 0.3235 - accuracy: 0.8838 - val_loss: 1.4171 - val_accuracy: 0.6150\n",
      "Epoch 79/100\n",
      "800/800 [==============================] - 1s 1ms/step - loss: 0.2961 - accuracy: 0.8988 - val_loss: 1.4830 - val_accuracy: 0.5950\n",
      "Epoch 80/100\n",
      "800/800 [==============================] - 1s 1ms/step - loss: 0.2784 - accuracy: 0.9075 - val_loss: 1.3785 - val_accuracy: 0.6150\n",
      "Epoch 81/100\n",
      "800/800 [==============================] - 1s 1ms/step - loss: 0.2348 - accuracy: 0.9225 - val_loss: 1.4111 - val_accuracy: 0.6150\n",
      "Epoch 82/100\n",
      "800/800 [==============================] - 1s 1ms/step - loss: 0.2411 - accuracy: 0.9212 - val_loss: 1.4943 - val_accuracy: 0.6200\n",
      "Epoch 83/100\n",
      "800/800 [==============================] - 1s 1ms/step - loss: 0.2188 - accuracy: 0.9337 - val_loss: 1.4517 - val_accuracy: 0.6250\n",
      "Epoch 84/100\n",
      "800/800 [==============================] - 1s 1ms/step - loss: 0.2093 - accuracy: 0.9350 - val_loss: 1.5476 - val_accuracy: 0.5900\n",
      "Epoch 85/100\n",
      "800/800 [==============================] - 1s 1ms/step - loss: 0.2297 - accuracy: 0.9225 - val_loss: 1.6811 - val_accuracy: 0.5850\n",
      "Epoch 86/100\n",
      "800/800 [==============================] - 1s 1ms/step - loss: 0.2712 - accuracy: 0.9125 - val_loss: 1.5794 - val_accuracy: 0.5850\n",
      "Epoch 87/100\n",
      "800/800 [==============================] - 1s 1ms/step - loss: 0.2418 - accuracy: 0.9125 - val_loss: 1.5626 - val_accuracy: 0.6150\n",
      "Epoch 88/100\n",
      "800/800 [==============================] - 1s 1ms/step - loss: 0.2626 - accuracy: 0.9087 - val_loss: 1.5052 - val_accuracy: 0.5900\n",
      "Epoch 89/100\n",
      "800/800 [==============================] - 1s 1ms/step - loss: 0.2459 - accuracy: 0.9212 - val_loss: 1.5241 - val_accuracy: 0.6100\n",
      "Epoch 90/100\n",
      "800/800 [==============================] - 1s 1ms/step - loss: 0.2203 - accuracy: 0.9312 - val_loss: 1.5599 - val_accuracy: 0.5950\n",
      "Epoch 91/100\n",
      "800/800 [==============================] - 1s 1ms/step - loss: 0.2137 - accuracy: 0.9100 - val_loss: 1.5991 - val_accuracy: 0.6200\n",
      "Epoch 92/100\n",
      "800/800 [==============================] - 1s 1ms/step - loss: 0.2148 - accuracy: 0.9150 - val_loss: 1.5734 - val_accuracy: 0.5900\n",
      "Epoch 93/100\n",
      "800/800 [==============================] - 1s 1ms/step - loss: 0.2339 - accuracy: 0.9175 - val_loss: 1.5557 - val_accuracy: 0.5850\n",
      "Epoch 94/100\n",
      "800/800 [==============================] - 1s 1ms/step - loss: 0.1904 - accuracy: 0.9325 - val_loss: 1.5520 - val_accuracy: 0.5850\n",
      "Epoch 95/100\n",
      "800/800 [==============================] - 1s 1ms/step - loss: 0.1648 - accuracy: 0.9413 - val_loss: 1.7705 - val_accuracy: 0.5950\n",
      "Epoch 96/100\n",
      "800/800 [==============================] - 1s 1ms/step - loss: 0.2000 - accuracy: 0.9312 - val_loss: 1.6390 - val_accuracy: 0.6000\n",
      "Epoch 97/100\n",
      "800/800 [==============================] - 1s 1ms/step - loss: 0.1856 - accuracy: 0.9350 - val_loss: 1.8579 - val_accuracy: 0.5700\n",
      "Epoch 98/100\n",
      "800/800 [==============================] - 1s 1ms/step - loss: 0.2138 - accuracy: 0.9262 - val_loss: 1.7926 - val_accuracy: 0.5850\n",
      "Epoch 99/100\n",
      "800/800 [==============================] - 1s 1ms/step - loss: 0.1980 - accuracy: 0.9325 - val_loss: 1.7753 - val_accuracy: 0.6050\n",
      "Epoch 100/100\n",
      "800/800 [==============================] - 1s 1ms/step - loss: 0.1785 - accuracy: 0.9388 - val_loss: 1.7016 - val_accuracy: 0.6100\n"
     ]
    },
    {
     "data": {
      "text/plain": [
       "<keras.callbacks.callbacks.History at 0x25403128f60>"
      ]
     },
     "execution_count": 98,
     "metadata": {},
     "output_type": "execute_result"
    }
   ],
   "source": [
    "#training the model\n",
    "model.fit(train_x,train_y,batch_size=128,epochs=100,validation_data=(test_x,test_y))"
   ]
  },
  {
   "cell_type": "code",
   "execution_count": null,
   "metadata": {},
   "outputs": [],
   "source": []
  }
 ],
 "metadata": {
  "kernelspec": {
   "display_name": "Python 3",
   "language": "python",
   "name": "python3"
  },
  "language_info": {
   "codemirror_mode": {
    "name": "ipython",
    "version": 3
   },
   "file_extension": ".py",
   "mimetype": "text/x-python",
   "name": "python",
   "nbconvert_exporter": "python",
   "pygments_lexer": "ipython3",
   "version": "3.6.7"
  }
 },
 "nbformat": 4,
 "nbformat_minor": 2
}
